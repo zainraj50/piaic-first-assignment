{
 "cells": [
  {
   "cell_type": "code",
   "execution_count": 4,
   "metadata": {},
   "outputs": [
    {
     "name": "stdout",
     "output_type": "stream",
     "text": [
      "enter the radius of a circle:2\n",
      "area of a circle is: 12.56\n"
     ]
    }
   ],
   "source": [
    "####PROGRAM=1\n",
    "PI= 3.14 \n",
    "radius = float(input(\"enter the radius of a circle:\"))\n",
    "area = PI*radius*radius\n",
    "print(\"area of a circle is: %.2f\" %area)"
   ]
  },
  {
   "cell_type": "code",
   "execution_count": 5,
   "metadata": {},
   "outputs": [
    {
     "name": "stdout",
     "output_type": "stream",
     "text": [
      "enter the num:4\n",
      "positive\n"
     ]
    }
   ],
   "source": [
    "#PROGRAM 2\n",
    "num= int(input(\"enter the num:\"))\n",
    "if num==0:\n",
    "    print(\"zero\")\n",
    "elif num>0:\n",
    "    print(\"positive\")\n",
    "else:\n",
    "    print(\"negative\")"
   ]
  },
  {
   "cell_type": "code",
   "execution_count": 10,
   "metadata": {
    "scrolled": false
   },
   "outputs": [
    {
     "name": "stdout",
     "output_type": "stream",
     "text": [
      "Enter numerator:5\n",
      "Enter denumerator:2\n",
      "Number 5 is not completely divisible by 2\n"
     ]
    }
   ],
   "source": [
    "#PROGRAM 3\n",
    "numerator=int(input(\"Enter numerator:\"))\n",
    "denumerator=int(input(\"Enter denumerator:\"))\n",
    "\n",
    "if numerator%denumerator==0:\n",
    "    print(\"Number\",numerator, \"is  completely divisible by \",denumerator)\n",
    "else:\n",
    "    print(\"Number\",numerator, \"is not completely divisible by\",denumerator)"
   ]
  },
  {
   "cell_type": "code",
   "execution_count": 14,
   "metadata": {
    "scrolled": true
   },
   "outputs": [
    {
     "name": "stdout",
     "output_type": "stream",
     "text": [
      "Enter a date in (dd/mm/yy) format: 22/06/2019\n",
      "Enter a date in (dd/mm/yy) format: 28/06/2019\n",
      "There are 6 days in between 22/06/2019 and 28/06/2019\n"
     ]
    }
   ],
   "source": [
    "#PROGRAM 4\n",
    "from datetime import datetime\n",
    "date_format = \"%d/%m/%Y\"\n",
    "e = input(\"Enter a date in (dd/mm/yy) format: \")\n",
    "f = input(\"Enter a date in (dd/mm/yy) format: \")\n",
    "a = datetime.strptime( e , date_format)\n",
    "b = datetime.strptime( f , date_format)\n",
    "delta = b - a\n",
    "print (\"There are\", delta.days, \"days in between\", e , \"and\" , f)\n",
    "           "
   ]
  },
  {
   "cell_type": "code",
   "execution_count": 15,
   "metadata": {},
   "outputs": [
    {
     "name": "stdout",
     "output_type": "stream",
     "text": [
      "enter the radius of a sphere:1\n",
      "volume of the sphere with radius 1 is 4.189333333333333\n"
     ]
    }
   ],
   "source": [
    "#PROGRAM 5\n",
    "#V=4/3πr**3\n",
    "r=int(input(\"enter the radius of a sphere:\"))\n",
    "u=r**3\n",
    "PI=3.142\n",
    "value=4/3*PI*u\n",
    "print(\"volume of the sphere with radius\", r ,\"is\", value)"
   ]
  },
  {
   "cell_type": "code",
   "execution_count": 16,
   "metadata": {},
   "outputs": [
    {
     "name": "stdout",
     "output_type": "stream",
     "text": [
      "enter a string:hi\n",
      "enter a number of copies:4\n",
      "4 copies of hi are hihihihi\n"
     ]
    }
   ],
   "source": [
    "#PROGRAM 6\n",
    "alp=input(\"enter a string:\")\n",
    "num=int(input(\"enter a number of copies:\"))\n",
    "copy=alp*num\n",
    "print(num,\"copies of\",alp,\"are\",copy)"
   ]
  },
  {
   "cell_type": "code",
   "execution_count": 18,
   "metadata": {},
   "outputs": [
    {
     "name": "stdout",
     "output_type": "stream",
     "text": [
      "enter the number:35\n",
      "odd\n"
     ]
    }
   ],
   "source": [
    "#PROGRAM 7\n",
    "num= int(input(\"enter the number:\"))\n",
    "a= int(num/2)*2\n",
    "if a==num:\n",
    "  print(\"even\")\n",
    "else:\n",
    "  print(\"odd\")"
   ]
  },
  {
   "cell_type": "code",
   "execution_count": 6,
   "metadata": {},
   "outputs": [
    {
     "name": "stdout",
     "output_type": "stream",
     "text": [
      "Enter any character: E\n",
      "Letter E is vowel\n"
     ]
    }
   ],
   "source": [
    "#PROGRAM 8\n",
    "C = str(input(\"Enter any character: \"))\n",
    "if C == 'a' or C == 'A' or C == 'e' or C == 'E' or C == 'i' or C == 'I' or C == 'o' or C == 'O' or C == 'u' or C == 'U':\n",
    "    print (\"Letter\", C, \"is vowel\")\n",
    "else:\n",
    "    print (\"Letter\", C, \"is not vowel\")"
   ]
  },
  {
   "cell_type": "code",
   "execution_count": null,
   "metadata": {},
   "outputs": [],
   "source": [
    "#PROGRAM 9\n",
    "H = int(input(\"Enter Height: \"))\n",
    "B = int(input(\"Enter Base: \"))\n",
    "Area = 0.5*B*H\n",
    "print(\"Area of triangle with Height\", H, \"and Base\", B, \"is\", Area)"
   ]
  },
  {
   "cell_type": "code",
   "execution_count": null,
   "metadata": {},
   "outputs": [],
   "source": [
    "#PROGRAM 10\n",
    "P = int(input(\"Please enter Principal amount: \"))\n",
    "R = float(input(\"Please enter rate of interest in %: \"))\n",
    "T = int(input(\"Please enter number of years for investment: \"))\n",
    "I = P*((1+R)**T)\n",
    "print (\"After\", T, \"years, your Principal ammount,\", P, \"over an interest rate of\", R,\"% will be\", I)"
   ]
  },
  {
   "cell_type": "code",
   "execution_count": 1,
   "metadata": {},
   "outputs": [
    {
     "name": "stdout",
     "output_type": "stream",
     "text": [
      "enter the co-ordinate for x1:2\n",
      "enter the co-ordinate for x2:4\n",
      "enter the co-ordinate for y1:4\n",
      "enter the co-ordinate for y2:4\n",
      "Distance between two point (2, 4) and (4, 4) is 2.0\n"
     ]
    }
   ],
   "source": [
    "#PROGRAM 11\n",
    "#((x2-x1)*2+(y2-y1)*2)*1/2\n",
    "x1=int(input(\"enter the co-ordinate for x1:\"))\n",
    "x2=int(input(\"enter the co-ordinate for x2:\"))\n",
    "y1=int(input(\"enter the co-ordinate for y1:\"))\n",
    "y2=int(input(\"enter the co-ordinate for y2:\"))\n",
    "a=(x1,x2)\n",
    "b=(y1,y2)\n",
    "num1= ((x2-x1)*2+(y2-y1)*2)*1/2\n",
    "print(\"Distance between two point\",a,\"and\",b,\"is\",float(num1))\n"
   ]
  },
  {
   "cell_type": "code",
   "execution_count": 2,
   "metadata": {},
   "outputs": [
    {
     "name": "stdout",
     "output_type": "stream",
     "text": [
      "Enter height in feet: 6\n",
      "There are 182.88 cm in 6.0 ft.\n"
     ]
    }
   ],
   "source": [
    "#PROGRAM 12\n",
    "ft = 30.48 #ratio of 1feet : 30,48 cm\n",
    "h = float(input(\"Enter height in feet: \"))\n",
    "cm = h * ft\n",
    "print(\"There are\", cm,\"cm in\", h, \"ft.\")"
   ]
  },
  {
   "cell_type": "code",
   "execution_count": 3,
   "metadata": {},
   "outputs": [
    {
     "name": "stdout",
     "output_type": "stream",
     "text": [
      "enter the height in cm:180\n",
      "enter the weight in kg:75\n",
      "23.148148148148145\n"
     ]
    }
   ],
   "source": [
    "#PROGRAM 13\n",
    "#BMI = kg/m2\n",
    "h=int(input(\"enter the height in cm:\"))\n",
    "kg=int(input(\"enter the weight in kg:\"))\n",
    "m2=h/100\n",
    "BMI=kg/m2**2\n",
    "print(BMI)"
   ]
  },
  {
   "cell_type": "code",
   "execution_count": 2,
   "metadata": {},
   "outputs": [
    {
     "name": "stdout",
     "output_type": "stream",
     "text": [
      "Enter value of n: 5\n",
      "Sum of n Integers is  15.0\n"
     ]
    }
   ],
   "source": [
    "#PROGRAM 14\n",
    "num = int(input(\"Enter value of n: \"))\n",
    "sum_num = (num * (num + 1)) / 2\n",
    "print(\"Sum of n Integers is \",sum_num)"
   ]
  },
  {
   "cell_type": "code",
   "execution_count": null,
   "metadata": {},
   "outputs": [],
   "source": [
    "#PROGRAM 15\n",
    "num = int(input(\"Input a four digit numbers: \"))\n",
    "x = num //1000\n",
    "num1 = (num - x*1000)//100\n",
    "num2 = (num - x*1000 - num1*100)//10\n",
    "num3 = num - x*1000 - num1*100 - num2*10\n",
    "sum_of_num = x + num1 + num2 + num3\n",
    "print(\"The sum of four numbers is \", sum_of_num)"
   ]
  },
  {
   "cell_type": "code",
   "execution_count": 3,
   "metadata": {},
   "outputs": [
    {
     "name": "stdout",
     "output_type": "stream",
     "text": [
      "Enter decimal number: 5\n",
      "The binary no. for 5 is 0101\n"
     ]
    }
   ],
   "source": [
    "#PROGRAM 16\n",
    "n=int(input('Enter decimal number: '))\n",
    "x=n\n",
    "k=[]\n",
    "while (n>0):\n",
    "    a=int(float(n%2))\n",
    "    k.append(a)\n",
    "    n=(n-a)/2\n",
    "k.append(0)\n",
    "string=\"\"\n",
    "for j in k[::-1]:\n",
    "    string=string+str(j)\n",
    "print('The binary no. for %d is %s'%(x, string))"
   ]
  },
  {
   "cell_type": "code",
   "execution_count": 4,
   "metadata": {},
   "outputs": [
    {
     "name": "stdout",
     "output_type": "stream",
     "text": [
      "Enter a Binary number: 1011\n",
      "Decimal digit is 11\n"
     ]
    }
   ],
   "source": [
    "#PROGRAM 17\n",
    "num = list(input(\"Enter a Binary number: \"))\n",
    "value = 0\n",
    "\n",
    "for i in range(len(num)):\n",
    "    digit = num.pop()\n",
    "    if digit == '1':\n",
    "        value = value + pow(2, i)\n",
    "print(f\"Decimal digit is\", value)"
   ]
  },
  {
   "cell_type": "code",
   "execution_count": 5,
   "metadata": {},
   "outputs": [
    {
     "name": "stdout",
     "output_type": "stream",
     "text": [
      "Enter text : A\n",
      "Vowels  1\n",
      "Consonants 0\n"
     ]
    }
   ],
   "source": [
    "#PROGRAM 18\n",
    "var = input(\"Enter text : \")\n",
    "vowels = 0\n",
    "consonants = 0\n",
    "\n",
    "for i in var:\n",
    "    if(i == 'a' or i == 'e' or i == 'i' or i == 'o' or i == 'u'\n",
    "       or i == 'A' or i == 'E' or i == 'I' or i == 'O' or i == 'U'):\n",
    "        vowels = vowels + 1\n",
    "    else:\n",
    "        consonants = consonants + 1\n",
    "print(\"Vowels \", vowels)\n",
    "print(\"Consonants\", consonants)"
   ]
  },
  {
   "cell_type": "code",
   "execution_count": 6,
   "metadata": {},
   "outputs": [
    {
     "name": "stdout",
     "output_type": "stream",
     "text": [
      "Enter a word to check its palindrome or not: ALI\n",
      "No its not!\n"
     ]
    }
   ],
   "source": [
    "#PROGRAM 19\n",
    "\n",
    "word = input('Enter a word to check its palindrome or not: ')\n",
    "a = []\n",
    "for e in word:\n",
    "    a.append(e)\n",
    "if a[::-1] == list(word):\n",
    "    print(\"Yes it is!\")\n",
    "else:\n",
    "    print('No its not!')"
   ]
  },
  {
   "cell_type": "code",
   "execution_count": 7,
   "metadata": {},
   "outputs": [
    {
     "name": "stdout",
     "output_type": "stream",
     "text": [
      "Enter the text: KARIM\n",
      "Letters = 5\n",
      "Numbers = 0\n",
      "Spaces = 0\n",
      "Special Char = 0\n"
     ]
    }
   ],
   "source": [
    "#PROGRAM 20\n",
    "\n",
    "text = input('Enter the text: ')\n",
    "letters = 0\n",
    "numbers = 0\n",
    "spc = 0\n",
    "space = 0\n",
    "for e in text:\n",
    "    if (ord(e)>=65 and ord(e)<=90) or (ord(e)>=97 and ord(e)<=122):\n",
    "        letters += 1\n",
    "    elif ord(e) == 32:\n",
    "        space += 1\n",
    "    elif ord(e)>=48 and ord(e)<=57:\n",
    "        numbers += 1\n",
    "    else:\n",
    "        spc+=1\n",
    "print('Letters = {}\\nNumbers = {}\\nSpaces = {}\\nSpecial Char = {}'.format(letters, numbers, space, spc))"
   ]
  },
  {
   "cell_type": "code",
   "execution_count": 8,
   "metadata": {},
   "outputs": [
    {
     "name": "stdout",
     "output_type": "stream",
     "text": [
      "How many rows do you want? 5\n",
      "* \n",
      "* * \n",
      "* * * \n",
      "* * * * \n",
      "* * * * * \n",
      "* * * * \n",
      "* * * \n",
      "* * \n",
      "* \n",
      "\n"
     ]
    }
   ],
   "source": [
    "#PROGRAM 21\n",
    "\n",
    "rows = int(input('How many rows do you want? '))\n",
    "for i in range (0, rows):\n",
    "    for j in range(0, i + 1):\n",
    "        print(\"*\", end=' ')\n",
    "    print(\"\\r\")\n",
    "for i in range (rows, 0, -1):\n",
    "    for j in range(0, i -1):\n",
    "        print(\"*\", end=' ')\n",
    "    print(\"\\r\")"
   ]
  },
  {
   "cell_type": "code",
   "execution_count": 9,
   "metadata": {},
   "outputs": [
    {
     "name": "stdout",
     "output_type": "stream",
     "text": [
      "How many rows do you want? 5\n",
      "\n",
      "1 \n",
      "1 2 \n",
      "1 2 3 \n",
      "1 2 3 4 \n",
      "1 2 3 \n",
      "1 2 \n",
      "1 \n",
      "\n",
      "\n"
     ]
    }
   ],
   "source": [
    "#PROGRAM 22\n",
    "\n",
    "rows = int(input('How many rows do you want? '))\n",
    "for i in range (0, rows):\n",
    "    for j in range(1, i + 1):\n",
    "        print(\"{}\".format(j), end=' ')\n",
    "    print(\"\\r\")\n",
    "for i in range (rows, 0, -1):\n",
    "    for j in range(1, i -1):\n",
    "        print(\"{}\".format(j), end=' ')\n",
    "    print(\"\\r\")"
   ]
  },
  {
   "cell_type": "code",
   "execution_count": 10,
   "metadata": {},
   "outputs": [
    {
     "name": "stdout",
     "output_type": "stream",
     "text": [
      "How many rows do you want: 5\n",
      "0\n",
      "11\n",
      "222\n",
      "3333\n",
      "44444\n"
     ]
    }
   ],
   "source": [
    "#PROGRAM 23\n",
    "\n",
    "rows = int(input('How many rows do you want: '))\n",
    "for i in range(rows):\n",
    "    for j in range(i+1):\n",
    "        print(i, end = '')\n",
    "    print('\\r')"
   ]
  },
  {
   "cell_type": "code",
   "execution_count": null,
   "metadata": {},
   "outputs": [],
   "source": []
  }
 ],
 "metadata": {
  "kernelspec": {
   "display_name": "Python 3",
   "language": "python",
   "name": "python3"
  },
  "language_info": {
   "codemirror_mode": {
    "name": "ipython",
    "version": 3
   },
   "file_extension": ".py",
   "mimetype": "text/x-python",
   "name": "python",
   "nbconvert_exporter": "python",
   "pygments_lexer": "ipython3",
   "version": "3.7.3"
  }
 },
 "nbformat": 4,
 "nbformat_minor": 2
}
